{
 "cells": [
  {
   "cell_type": "code",
   "execution_count": 1,
   "metadata": {},
   "outputs": [],
   "source": [
    "import pyscf\n",
    "import ctypes\n",
    "import numpy as np\n",
    "from pyscf import dft\n",
    "from pyscf import gto\n",
    "import matplotlib.pyplot as plt\n",
    "from mpl_toolkits.mplot3d import Axes3D\n",
    "from pyscf import lib\n",
    "from pyscf.dft import libxc\n",
    "from pyscf.dft import numint\n",
    "from pyscf.dft import xc_deriv"
   ]
  },
  {
   "cell_type": "code",
   "execution_count": 2,
   "metadata": {},
   "outputs": [
    {
     "name": "stdout",
     "output_type": "stream",
     "text": [
      "converged SCF energy = -0.43567023297957  <S^2> = 0.75  2S+1 = 2\n"
     ]
    },
    {
     "data": {
      "text/plain": [
       "-0.43567023297957"
      ]
     },
     "execution_count": 2,
     "metadata": {},
     "output_type": "execute_result"
    }
   ],
   "source": [
    "mol=gto.Mole()\n",
    "mol.atom='''\n",
    "    H 0 0 0\n",
    "'''#Z-matrix input format\n",
    "mol.spin=1\n",
    "mol.basis='sto-3g'\n",
    "mol.symmetry = True\n",
    "mol.build()\n",
    "mylda = dft.UKS(mol)\n",
    "mylda.xc = 'lda,vwn'\n",
    "mylda.kernel()"
   ]
  },
  {
   "cell_type": "code",
   "execution_count": 3,
   "metadata": {},
   "outputs": [
    {
     "name": "stdout",
     "output_type": "stream",
     "text": [
      "converged SCF energy = -0.476044470492464  <S^2> = 0.75  2S+1 = 2\n"
     ]
    },
    {
     "data": {
      "text/plain": [
       "-0.47604447049246384"
      ]
     },
     "execution_count": 3,
     "metadata": {},
     "output_type": "execute_result"
    }
   ],
   "source": [
    "mol=gto.Mole()\n",
    "mol.atom='''\n",
    "    H 0 0 0\n",
    "'''#Z-matrix input format\n",
    "mol.spin=1\n",
    "mol.basis='6-31g'\n",
    "mol.symmetry = True\n",
    "mol.build()\n",
    "mylda = dft.UKS(mol)\n",
    "mylda.xc = 'lda,vwn'\n",
    "mylda.kernel()"
   ]
  },
  {
   "cell_type": "code",
   "execution_count": 4,
   "metadata": {},
   "outputs": [
    {
     "name": "stdout",
     "output_type": "stream",
     "text": [
      "converged SCF energy = -0.478347509256095  <S^2> = 0.75  2S+1 = 2\n"
     ]
    },
    {
     "data": {
      "text/plain": [
       "-0.4783475092560955"
      ]
     },
     "execution_count": 4,
     "metadata": {},
     "output_type": "execute_result"
    }
   ],
   "source": [
    "mol=gto.Mole()\n",
    "mol.atom='''\n",
    "    H 0 0 0\n",
    "'''#Z-matrix input format\n",
    "mol.spin=1\n",
    "mol.basis='cc-pvtz'\n",
    "mol.symmetry = True\n",
    "mol.build()\n",
    "mylda = dft.UKS(mol)\n",
    "mylda.xc = 'lda,vwn'\n",
    "mylda.kernel()"
   ]
  },
  {
   "cell_type": "code",
   "execution_count": 5,
   "metadata": {},
   "outputs": [
    {
     "name": "stdout",
     "output_type": "stream",
     "text": [
      "converged SCF energy = -0.478347509256095  <S^2> = 0.75  2S+1 = 2\n"
     ]
    },
    {
     "data": {
      "text/plain": [
       "-0.4783475092560953"
      ]
     },
     "execution_count": 5,
     "metadata": {},
     "output_type": "execute_result"
    }
   ],
   "source": [
    "mol=gto.Mole()\n",
    "mol.atom='''\n",
    "    H 0 0 0\n",
    "'''#Z-matrix input format\n",
    "mol.spin=1\n",
    "mol.basis='cc-pvtz'\n",
    "mol.symmetry = True\n",
    "mol.build()\n",
    "mylda = dft.UKS(mol)\n",
    "#check\n",
    "mylda.xc = 'lda,vwn'\n",
    "\n",
    "mylda.kernel()\n"
   ]
  },
  {
   "cell_type": "code",
   "execution_count": 6,
   "metadata": {},
   "outputs": [
    {
     "name": "stdout",
     "output_type": "stream",
     "text": [
      "converged SCF energy = -0.456680331798621  <S^2> = 0.75  2S+1 = 2\n",
      "lda type:LDA,parse:((0, 0, 0), ((0, 2),))\n",
      "lda,vwn type:LDA,parse:;p0((0, 0, 0), ((0, 1), (3, 1)))\n"
     ]
    }
   ],
   "source": [
    "mol=gto.Mole()\n",
    "mol.atom='''\n",
    "    H 0 0 0\n",
    "'''#Z-matrix input format\n",
    "mol.spin=1\n",
    "mol.basis='cc-pvtz'\n",
    "mol.symmetry = True\n",
    "mol.build()\n",
    "mylda = dft.UKS(mol)\n",
    "#check\n",
    "mylda.xc = 'lda'\n",
    "mylda.kernel()\n",
    "print(f\"lda type:{dft.xcfun.xc_type('lda')},parse:{dft.xcfun.parse_xc('lda,lda')}\")\n",
    "\n",
    "print(f\"lda,vwn type:{dft.xcfun.xc_type('lda,vwn')},parse:;p0{dft.xcfun.parse_xc('lda,vwn')}\")"
   ]
  },
  {
   "cell_type": "markdown",
   "metadata": {},
   "source": [
    "XC_CODES = {\n",
    "'SLATERX'       :  0,  #Slater LDA exchange\n",
    "'PW86X'         :  1,  #PW86 exchange\n",
    "'VWN3C'         :  2,  #VWN3 LDA Correlation functional\n",
    "'VWN5C'         :  3,  #VWN5 LDA Correlation funct"
   ]
  },
  {
   "cell_type": "code",
   "execution_count": 7,
   "metadata": {},
   "outputs": [
    {
     "name": "stdout",
     "output_type": "stream",
     "text": [
      "Coulomb energy: 0.2964314063569692 Hartree\n",
      "Exchange-correlation energy: -0.2546398297770955 Hartree\n",
      "Nuclear repulsion energy: 0 Hartree\n",
      "Electronic energy: -0.4566803317986212 Hartree\n"
     ]
    }
   ],
   "source": [
    "# get_veff calculates columb energy (J) + XC, and each part is accessbile with .ecoul or .exc\n",
    "# Coulomb energy (Hartree energy)\n",
    "print(f\"Coulomb energy: {mylda.get_veff().ecoul} Hartree\")\n",
    "# Exchange-correlation energy\n",
    "print(f\"Exchange-correlation energy: {mylda.get_veff().exc} Hartree\")\n",
    "\n",
    "# Nuclear repulsion energy\n",
    "print(f\"Nuclear repulsion energy: {mylda.energy_nuc()} Hartree\")\n",
    "\n",
    "# note we can also access the electronic energy with energy_elec(), which returns: (electronic energy, 2electron contribution)\n",
    "print(f\"Electronic energy: {mylda.energy_elec()[0]} Hartree\")"
   ]
  },
  {
   "cell_type": "code",
   "execution_count": 8,
   "metadata": {},
   "outputs": [
    {
     "name": "stdout",
     "output_type": "stream",
     "text": [
      "(4, 10024, 14)\n",
      "dimension for phi matrix: (10024, 14)\n",
      "(4, 10024)\n"
     ]
    }
   ],
   "source": [
    "#default integration grids use Bragg radii for atoms\n",
    "#Treutler-Ahlrichs radial grids, Becke partitioning for grid weights\n",
    "grids = dft.gen_grid.Grids(mol)\n",
    "grids.build(with_non0tab=True)\n",
    "weights = grids.weights\n",
    "coords = grids.coords\n",
    "ao_value_grid = numint.eval_ao(mol, coords, deriv=1)\n",
    "print(ao_value_grid.shape)\n",
    "print(\"dimension for phi matrix:\",ao_value_grid[0].shape)\n",
    "#the value for phi matrix and the first derivative\n",
    "phi=ao_value_grid[0]\n",
    "phix=ao_value_grid[1]\n",
    "phiy=ao_value_grid[2]\n",
    "phiz=ao_value_grid[3]\n",
    "dm = mylda.make_rdm1()\n",
    "rho_grid=  numint.eval_rho(mol, ao_value_grid,dm ,xctype='GGA')\n",
    "print(rho_grid.shape)"
   ]
  },
  {
   "cell_type": "code",
   "execution_count": 9,
   "metadata": {},
   "outputs": [],
   "source": [
    "\n",
    "_itrf= lib.load_library('libxc_itrf')\n",
    "def evalxc(rho):\n",
    "    #create a list for fn_ids and facs\n",
    "    hyb, fn_facs = dft.libxc.parse_xc('lda,vwn')\n",
    "    fn_ids = [x[0] for x in fn_facs]\n",
    "    facs   = [x[1] for x in fn_facs]\n",
    "    omega=[0] * len(facs)\n",
    "    #XC_NVAR('LDA', 1): (1, 2)\n",
    "    #only density is the variable\n",
    "    spin=1\n",
    "    nvar, xlen = xc_deriv._XC_NVAR['LDA', spin]\n",
    "    ngrids = rho.shape[-1]\n",
    "    #deriv=1 (corrlation)\n",
    "    deriv=1\n",
    "    #outlen=3\n",
    "    outlen = lib.comb(xlen+deriv, deriv)\n",
    "    out = np.zeros((outlen,ngrids))\n",
    "    n = len(fn_ids)\n",
    "    density_threshold=0\n",
    "    _itrf.LIBXC_eval_xc(ctypes.c_int(n),\n",
    "                            (ctypes.c_int*n)(*fn_ids),\n",
    "                            (ctypes.c_double*n)(*facs),\n",
    "                            (ctypes.c_double*n)(*omega),\n",
    "                            ctypes.c_int(spin), ctypes.c_int(deriv),\n",
    "                            ctypes.c_int(nvar), ctypes.c_int(ngrids),\n",
    "                            ctypes.c_int(outlen),\n",
    "                            rho.ctypes.data_as(ctypes.c_void_p),\n",
    "                            out.ctypes.data_as(ctypes.c_void_p),\n",
    "                            ctypes.c_double(density_threshold))\n",
    "    Exc= np.einsum('p,p,p->',out[0],rho,weights)\n",
    "    Vxca = np.einsum('pb,p,p,pa->ab', phi, out[1], weights, phi, optimize=True)\n",
    "    Vxcb = np.einsum('pb,p,p,pa->ab', phi, out[2], weights, phi, optimize=True)\n",
    "    return Exc, Vxca, Vxcb"
   ]
  },
  {
   "cell_type": "code",
   "execution_count": 10,
   "metadata": {},
   "outputs": [],
   "source": [
    "# ==> Define function to diagonalize F <==\n",
    "def diag_F(F, norb):\n",
    "    F_p = A.dot(F).dot(A)\n",
    "    e, C_p = np.linalg.eigh(F_p)\n",
    "    C = A.dot(C_p)\n",
    "    C_occ = C[:, :norb]\n",
    "    D = np.einsum('pi,qi->pq', C_occ, C_occ, optimize=True)\n",
    "    return (C, D)"
   ]
  },
  {
   "cell_type": "code",
   "execution_count": 11,
   "metadata": {},
   "outputs": [],
   "source": [
    "# ==> Set default program options <==\n",
    "# Maximum SCF iterations\n",
    "MAXITER = 60\n",
    "# Energy convergence criterion\n",
    "E_conv = 1.0e-6\n"
   ]
  },
  {
   "cell_type": "code",
   "execution_count": 12,
   "metadata": {},
   "outputs": [
    {
     "name": "stdout",
     "output_type": "stream",
     "text": [
      "Number of basis functions: 14\n",
      "Number of singly occupied orbitals: 1\n",
      "1\n",
      "0\n"
     ]
    }
   ],
   "source": [
    "S=mol.intor('int1e_ovlp')\n",
    "nbf = S.shape[0]\n",
    "nalpha=mol.nelec[0]\n",
    "nbeta=mol.nelec[1]\n",
    "#ndocc=min(nalpha,nbeta)\n",
    "print('Number of basis functions: %d' % (nbf))\n",
    "print('Number of singly occupied orbitals: %d' % (abs(nalpha - nbeta)))\n",
    "print(nalpha)\n",
    "print(nbeta)\n",
    "#print('Number of doubly occupied orbitals: %d' % (ndocc))\n"
   ]
  },
  {
   "cell_type": "code",
   "execution_count": 13,
   "metadata": {},
   "outputs": [
    {
     "name": "stdout",
     "output_type": "stream",
     "text": [
      "(14, 14, 14, 14)\n"
     ]
    }
   ],
   "source": [
    "#Build ERI Tensor\n",
    "I = mol.intor('int2e')\n",
    "print(np.shape(I))\n",
    "#Build core Hamiltonian\n",
    "T = mol.intor('int1e_kin')\n",
    "V = mol.intor('int1e_nuc')\n",
    "H = T + V"
   ]
  },
  {
   "cell_type": "code",
   "execution_count": 14,
   "metadata": {},
   "outputs": [],
   "source": [
    "#symmetric orthogonalization\n",
    "from scipy.linalg import fractional_matrix_power\n",
    "A = fractional_matrix_power(S, -0.5)\n",
    "# ==> Build alpha & beta CORE guess <==\n",
    "Ca, Da = diag_F(H, nalpha)\n",
    "Cb, Db = diag_F(H, nbeta)\n",
    "\n",
    "# Get nuclear repulsion energy\n",
    "E_nuc = mol.energy_nuc()\n",
    "# ==> Pre-Iteration Setup <==\n",
    "# SCF & Previous Energy\n",
    "SCF_E = 0.0\n",
    "E_old = 0.0"
   ]
  },
  {
   "cell_type": "code",
   "execution_count": 15,
   "metadata": {},
   "outputs": [
    {
     "name": "stdout",
     "output_type": "stream",
     "text": [
      "==> Starting SCF Iterations <==\n",
      "\n",
      "SCF Iteration   1: Energy = -0.4774698029914032 dE = -4.77470E-01\n",
      "SCF Iteration   2: Energy = -0.4783840675731585 dE = -9.14265E-04\n",
      "SCF Iteration   3: Energy = -0.4783474656480308 dE =  3.66019E-05\n",
      "SCF Iteration   4: Energy = -0.4783782406118109 dE = -3.07750E-05\n",
      "SCF Iteration   5: Energy = -0.4783474920797357 dE =  3.07485E-05\n",
      "SCF Iteration   6: Energy = -0.4785629999754800 dE = -2.15508E-04\n",
      "SCF Iteration   7: Energy = -0.4783472917463362 dE =  2.15708E-04\n",
      "SCF Iteration   8: Energy = -0.4783925627632760 dE = -4.52710E-05\n",
      "SCF Iteration   9: Energy = -0.4783474777926708 dE =  4.50850E-05\n",
      "SCF Iteration  10: Energy = -0.4783537573180117 dE = -6.27953E-06\n",
      "SCF Iteration  11: Energy = -0.4783475081514291 dE =  6.24917E-06\n",
      "SCF Iteration  12: Energy = -0.4783738457725520 dE = -2.63376E-05\n",
      "SCF Iteration  13: Energy = -0.4783474961518179 dE =  2.63496E-05\n",
      "SCF Iteration  14: Energy = -0.4785629882161940 dE = -2.15492E-04\n",
      "SCF Iteration  15: Energy = -0.4783472919103477 dE =  2.15696E-04\n",
      "SCF Iteration  16: Energy = -0.4783782581488931 dE = -3.09662E-05\n",
      "SCF Iteration  17: Energy = -0.4783474901697924 dE =  3.07680E-05\n",
      "SCF Iteration  18: Energy = -0.4785629987158787 dE = -2.15509E-04\n",
      "SCF Iteration  19: Energy = -0.4783472916604684 dE =  2.15707E-04\n",
      "SCF Iteration  20: Energy = -0.4784099779348542 dE = -6.26863E-05\n",
      "SCF Iteration  21: Energy = -0.4783474614142651 dE =  6.25165E-05\n",
      "SCF Iteration  22: Energy = -0.4785219282390701 dE = -1.74467E-04\n",
      "SCF Iteration  23: Energy = -0.4783473285444669 dE =  1.74600E-04\n",
      "SCF Iteration  24: Energy = -0.4784099794899816 dE = -6.26509E-05\n",
      "SCF Iteration  25: Energy = -0.4783474616012331 dE =  6.25179E-05\n",
      "SCF Iteration  26: Energy = -0.4785221576284234 dE = -1.74696E-04\n",
      "SCF Iteration  27: Energy = -0.4783473282267825 dE =  1.74829E-04\n",
      "SCF Iteration  28: Energy = -0.4785221157207504 dE = -1.74787E-04\n",
      "SCF Iteration  29: Energy = -0.4783473264321861 dE =  1.74789E-04\n",
      "SCF Iteration  30: Energy = -0.4784099764969325 dE = -6.26501E-05\n",
      "SCF Iteration  31: Energy = -0.4783474616015297 dE =  6.25149E-05\n",
      "SCF Iteration  32: Energy = -0.4784099867729815 dE = -6.25252E-05\n",
      "SCF Iteration  33: Energy = -0.4783474625305273 dE =  6.25242E-05\n",
      "SCF Iteration  34: Energy = -0.4785629912002911 dE = -2.15529E-04\n",
      "SCF Iteration  35: Energy = -0.4783472909156056 dE =  2.15700E-04\n",
      "SCF Iteration  36: Energy = -0.4785221070930476 dE = -1.74816E-04\n",
      "SCF Iteration  37: Energy = -0.4783473260678034 dE =  1.74781E-04\n",
      "SCF Iteration  38: Energy = -0.4783738572380531 dE = -2.65312E-05\n",
      "SCF Iteration  39: Energy = -0.4783474951853712 dE =  2.63621E-05\n",
      "SCF Iteration  40: Energy = -0.4784099891660369 dE = -6.24940E-05\n",
      "SCF Iteration  41: Energy = -0.4783474629787273 dE =  6.25262E-05\n",
      "SCF Iteration  42: Energy = -0.4785221586912151 dE = -1.74696E-04\n",
      "SCF Iteration  43: Energy = -0.4783473282602455 dE =  1.74830E-04\n",
      "SCF Iteration  44: Energy = -0.4785221649851840 dE = -1.74837E-04\n",
      "SCF Iteration  45: Energy = -0.4783473263815349 dE =  1.74839E-04\n",
      "SCF Iteration  46: Energy = -0.4785629200116696 dE = -2.15594E-04\n",
      "SCF Iteration  47: Energy = -0.4783472889136693 dE =  2.15631E-04\n",
      "SCF Iteration  48: Energy = -0.4783782325857284 dE = -3.09437E-05\n",
      "SCF Iteration  49: Energy = -0.4783474901849282 dE =  3.07424E-05\n",
      "SCF Iteration  50: Energy = -0.4784099893520096 dE = -6.24992E-05\n",
      "SCF Iteration  51: Energy = -0.4783474628878205 dE =  6.25265E-05\n",
      "SCF Iteration  52: Energy = -0.4785629665824027 dE = -2.15504E-04\n",
      "SCF Iteration  53: Energy = -0.4783472909492341 dE =  2.15676E-04\n",
      "SCF Iteration  54: Energy = -0.4785221071022736 dE = -1.74816E-04\n",
      "SCF Iteration  55: Energy = -0.4783473260681423 dE =  1.74781E-04\n",
      "SCF Iteration  56: Energy = -0.4785629694080816 dE = -2.15643E-04\n",
      "SCF Iteration  57: Energy = -0.4783472888612955 dE =  2.15681E-04\n",
      "SCF Iteration  58: Energy = -0.4785629650894886 dE = -2.15676E-04\n",
      "SCF Iteration  59: Energy = -0.4783472884595157 dE =  2.15677E-04\n",
      "SCF Iteration  60: Energy = -0.4783782582141584 dE = -3.09698E-05\n",
      "\n",
      "SCF converged.\n",
      "Final UHF Energy: -0.47837826 [Eh]\n",
      "\n"
     ]
    }
   ],
   "source": [
    "# Trial & Residual Vector Lists -- one each for alpha & beta\n",
    "F_list_a = []\n",
    "F_list_b = []\n",
    "\n",
    "\n",
    "# ==> UHF-SCF Iterations <==\n",
    "print('==> Starting SCF Iterations <==\\n')\n",
    "\n",
    "# Begin Iterations\n",
    "for scf_iter in range(1, MAXITER+1):\n",
    "    # Build Fa & Fb matrices\n",
    "    Ja = np.einsum('pqrs,rs->pq', I, Da, optimize=True)\n",
    "    Jb = np.einsum('pqrs,rs->pq', I, Db, optimize=True)\n",
    "    rho_grid = np.einsum('pm,mn,pn->p', phi, Da+Db, phi, optimize=True)\n",
    "\n",
    "    Exc, Vxca, Vxcb = evalxc(rho_grid)\n",
    "    Fa = H + (Ja + Jb) +Vxca\n",
    "    Fb = H + (Ja + Jb) +Vxcb\n",
    "    \n",
    "    \n",
    "    # Append trial vectors to lists\n",
    "    F_list_a.append(Fa)\n",
    "    F_list_b.append(Fb)\n",
    "    \n",
    "    \n",
    "    # Compute UHF Energy\n",
    "    SCF_E = np.einsum('pq,pq->', (Da + Db), H, optimize=True)\n",
    "    SCF_E += 0.5*np.einsum('pq,pq->', Da, Ja, optimize=True)\n",
    "    SCF_E += 0.5*np.einsum('pq,pq->', Db, Jb, optimize=True)\n",
    "    SCF_E += E_nuc\n",
    "    SCF_E += Exc\n",
    "    \n",
    "    \n",
    "    dE = SCF_E - E_old\n",
    "   \n",
    "    print('SCF Iteration %3d: Energy = %4.16f dE = % 1.5E' % (scf_iter, SCF_E, dE))\n",
    "    \n",
    "    # Convergence Check\n",
    "    if (abs(dE) < E_conv):\n",
    "        break\n",
    "    E_old = SCF_E\n",
    "   \n",
    "    # Compute new orbital guess\n",
    "    Ca, Da = diag_F(Fa, nalpha)\n",
    "    Cb, Db = diag_F(Fb, nbeta)\n",
    "# Post iterations\n",
    "print('\\nSCF converged.')\n",
    "print('Final UHF Energy: %.8f [Eh]' % SCF_E)\n",
    "print('')"
   ]
  },
  {
   "cell_type": "markdown",
   "metadata": {},
   "source": [
    "converged SCF energy = -0.4783475092560953  <S^2> = 0.75  2S+1 = 2\n",
    "lda type:LDA,parse:((0, 0, 0), ((0, 2),))\n",
    "lda,vwn type:LDA,parse:;p0((0, 0, 0), ((0, 1), (3, 1)))\n"
   ]
  },
  {
   "cell_type": "code",
   "execution_count": null,
   "metadata": {},
   "outputs": [],
   "source": []
  }
 ],
 "metadata": {
  "kernelspec": {
   "display_name": "Python 3",
   "language": "python",
   "name": "python3"
  },
  "language_info": {
   "codemirror_mode": {
    "name": "ipython",
    "version": 3
   },
   "file_extension": ".py",
   "mimetype": "text/x-python",
   "name": "python",
   "nbconvert_exporter": "python",
   "pygments_lexer": "ipython3",
   "version": "3.8.5"
  }
 },
 "nbformat": 4,
 "nbformat_minor": 4
}
