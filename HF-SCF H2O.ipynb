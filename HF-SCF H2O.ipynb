{
 "cells": [
  {
   "cell_type": "code",
   "execution_count": 1,
   "metadata": {},
   "outputs": [],
   "source": [
    "import numpy as np\n",
    "import pyscf"
   ]
  },
  {
   "cell_type": "code",
   "execution_count": 2,
   "metadata": {},
   "outputs": [
    {
     "data": {
      "text/plain": [
       "<pyscf.gto.mole.Mole at 0x7fd07443a7c0>"
      ]
     },
     "execution_count": 2,
     "metadata": {},
     "output_type": "execute_result"
    }
   ],
   "source": [
    "from pyscf import gto\n",
    "mol=gto.Mole()\n",
    "mol.atom='''\n",
    "    O\n",
    "    H 1 1.1\n",
    "    H 1 1.1 2 104\n",
    "'''#Z-matrix input format\n",
    "mol.basis='cc-pvdz'\n",
    "mol.symmetry = True\n",
    "mol.build()"
   ]
  },
  {
   "cell_type": "code",
   "execution_count": 3,
   "metadata": {},
   "outputs": [],
   "source": [
    "#Maximum SCF iterations\n",
    "MAXITER=40\n",
    "#Energy convergence criterion\n",
    "E_conv=1.0e-8"
   ]
  },
  {
   "cell_type": "code",
   "execution_count": 4,
   "metadata": {},
   "outputs": [
    {
     "name": "stdout",
     "output_type": "stream",
     "text": [
      "Number of basis functions:  24\n"
     ]
    }
   ],
   "source": [
    "#compute static one and two-electron quantities\n",
    "#Overlap matrix\n",
    "S = mol.intor('int1e_ovlp')\n",
    "#number of basis Functions\n",
    "nbf = S.shape[0]\n",
    "print('Number of basis functions: %3d' % (nbf))"
   ]
  },
  {
   "cell_type": "code",
   "execution_count": 5,
   "metadata": {},
   "outputs": [
    {
     "name": "stdout",
     "output_type": "stream",
     "text": [
      "(24, 24, 24, 24)\n",
      "(24, 24)\n",
      "(24, 24)\n"
     ]
    }
   ],
   "source": [
    "#Build ERI Tensor\n",
    "I = mol.intor('int2e')\n",
    "print(np.shape(I))\n",
    "#Build core Hamiltonian\n",
    "T = mol.intor('int1e_kin')\n",
    "V = mol.intor('int1e_nuc')\n",
    "H = T + V\n",
    "#print(H)\n",
    "print(np.shape(H))\n",
    "print(np.shape(V))"
   ]
  },
  {
   "cell_type": "markdown",
   "metadata": {},
   "source": [
    "to solve Roothan equation(make it a eigenvalue matrix equation), we need to transform the basis into an orthogonal basis"
   ]
  },
  {
   "cell_type": "code",
   "execution_count": 6,
   "metadata": {},
   "outputs": [],
   "source": [
    "#symmetric orthogonalization\n",
    "from scipy.linalg import fractional_matrix_power\n",
    "A = fractional_matrix_power(S, -0.5)"
   ]
  },
  {
   "cell_type": "code",
   "execution_count": 22,
   "metadata": {},
   "outputs": [
    {
     "name": "stdout",
     "output_type": "stream",
     "text": [
      "5\n"
     ]
    }
   ],
   "source": [
    "#re-compute the ERI and core Hamiltonian tensors in the newly orthogonal AO basis\n",
    "#a guess F=Hcore\n",
    "# Transformed Fock matrix\n",
    "F_p = A.dot(H).dot(A)\n",
    "# Diagonalize F_p for eigenvalues & eigenvectors with NumPy\n",
    "e, C_p = np.linalg.eigh(F_p)\n",
    "C=A.dot(C_p)\n",
    "\n",
    "# Grab occupied orbitals\n",
    "ndocc=mol.nelectron//2\n",
    "print(ndocc)\n",
    "C_occ = C[:, :ndocc]\n",
    "\n",
    "# Build density matrix from occupied orbitals(obtain an initial guess)\n",
    "D = np.einsum('pi,qi->pq', C_occ, C_occ, optimize=True)"
   ]
  },
  {
   "cell_type": "code",
   "execution_count": 23,
   "metadata": {},
   "outputs": [
    {
     "name": "stdout",
     "output_type": "stream",
     "text": [
      "8.002366485953992\n"
     ]
    }
   ],
   "source": [
    "E_nuc=mol.energy_nuc()\n",
    "print(E_nuc)"
   ]
  },
  {
   "cell_type": "code",
   "execution_count": 24,
   "metadata": {},
   "outputs": [
    {
     "name": "stdout",
     "output_type": "stream",
     "text": [
      "==> Starting SCF Iterations <==\n",
      "\n",
      "1\n",
      "SCF Iteration   1: Energy = -68.9800327332965821 dE = -6.89800E+01 dRMS = 1.16551E-01\n",
      "2\n",
      "SCF Iteration   2: Energy = -69.6472544406204861 dE = -6.67222E-01 dRMS = 1.07430E-01\n",
      "3\n",
      "SCF Iteration   3: Energy = -75.7919291462228273 dE = -6.14467E+00 dRMS = 2.89274E-02\n",
      "4\n",
      "SCF Iteration   4: Energy = -75.9721892298673538 dE = -1.80260E-01 dRMS = 7.56446E-03\n",
      "5\n",
      "SCF Iteration   5: Energy = -75.9893690604501160 dE = -1.71798E-02 dRMS = 8.74982E-04\n",
      "6\n",
      "SCF Iteration   6: Energy = -75.9897163369163309 dE = -3.47276E-04 dRMS = 5.35606E-04\n",
      "7\n",
      "SCF Iteration   7: Energy = -75.9897932418062396 dE = -7.69049E-05 dRMS = 6.21200E-05\n",
      "8\n",
      "SCF Iteration   8: Energy = -75.9897956276201683 dE = -2.38581E-06 dRMS = 2.57879E-05\n",
      "9\n",
      "SCF Iteration   9: Energy = -75.9897957847445582 dE = -1.57124E-07 dRMS = 1.72817E-06\n",
      "10\n",
      "SCF Iteration  10: Energy = -75.9897957872402969 dE = -2.49574E-09 dRMS = 7.81922E-07\n",
      "\n",
      "SCF converged.\n",
      "Final RHF Energy: -75.98979579 [Eh]\n"
     ]
    }
   ],
   "source": [
    "#SCF Iterations\n",
    "# Pre-iteration energy declarations\n",
    "SCF_E = 0.0\n",
    "E_old = 0.0\n",
    "\n",
    "#this is for DIIS\n",
    "# Trial & Residual Vector Lists\n",
    "F_list = []\n",
    "DIIS_RESID = []\n",
    "D_conv = 1.0e-3\n",
    "print('==> Starting SCF Iterations <==\\n')\n",
    "\n",
    "# Begin Iterations\n",
    "for scf_iter in range(1, MAXITER + 1):\n",
    "    # Build Fock matrix\n",
    "    J = np.einsum('pqrs,rs->pq', I, D, optimize=True)\n",
    "    K = np.einsum('prqs,rs->pq', I, D, optimize=True)\n",
    "    F = H + 2*J - K\n",
    "    \n",
    "    # Build DIIS Residual(orbital gradiant after normalization)\n",
    "    diis_r = A.dot(F.dot(D).dot(S) - S.dot(D).dot(F)).dot(A)\n",
    "    # Append trial & residual vectors to lists\n",
    "    F_list.append(F)\n",
    "    DIIS_RESID.append(diis_r)\n",
    "    print(len(F_list))\n",
    "    # Compute RHF energy\n",
    "    SCF_E = np.einsum('pq,pq->', (H + F), D, optimize=True) + E_nuc\n",
    "    dE = SCF_E - E_old\n",
    "    dRMS = np.mean(diis_r**2)**0.5\n",
    "    print('SCF Iteration %3d: Energy = %4.16f dE = % 1.5E dRMS = %1.5E' % (scf_iter, SCF_E, dE, dRMS))\n",
    "    \n",
    "    # SCF Converged?\n",
    "    if (abs(dE) < E_conv) and (dRMS < D_conv):\n",
    "        break\n",
    "    E_old = SCF_E\n",
    "    \n",
    "    if scf_iter >= 2:\n",
    "        # Build B matrix\n",
    "        B_dim = len(F_list) + 1\n",
    "        B = np.empty((B_dim, B_dim))\n",
    "        B[-1, :] = -1\n",
    "        B[:, -1] = -1\n",
    "        B[-1, -1] = 0\n",
    "        for i in range(len(F_list)):\n",
    "            for j in range(len(F_list)):\n",
    "                B[i, j] = np.einsum('ij,ij->', DIIS_RESID[i], DIIS_RESID[j], optimize=True)\n",
    "\n",
    "        # Build RHS of Pulay equation \n",
    "        rhs = np.zeros((B_dim))\n",
    "        rhs[-1] = -1\n",
    "        \n",
    "        # Solve Pulay equation for c_i's with NumPy\n",
    "        coeff = np.linalg.solve(B, rhs)\n",
    "        \n",
    "        # Build DIIS Fock matrix\n",
    "        F = np.zeros_like(F)\n",
    "        for x in range(coeff.shape[0] - 1):\n",
    "            F += coeff[x] * F_list[x]\n",
    "    \n",
    "    # Compute new orbital guess with DIIS Fock matrix\n",
    "    F_p =  A.dot(F).dot(A)\n",
    "    e, C_p = np.linalg.eigh(F_p)\n",
    "    C = A.dot(C_p)\n",
    "    C_occ = C[:, :ndocc]\n",
    "    D = np.einsum('pi,qi->pq', C_occ, C_occ, optimize=True)\n",
    "    \n",
    "    # MAXITER exceeded?\n",
    "    if (scf_iter == MAXITER):\n",
    "        raise Exception(\"Maximum number of SCF iterations exceeded.\")\n",
    "\n",
    "# Post iterations\n",
    "print('\\nSCF converged.')\n",
    "print('Final RHF Energy: %.8f [Eh]' % SCF_E)\n"
   ]
  },
  {
   "cell_type": "code",
   "execution_count": 25,
   "metadata": {},
   "outputs": [],
   "source": [
    "from pyscf import scf"
   ]
  },
  {
   "cell_type": "code",
   "execution_count": 26,
   "metadata": {},
   "outputs": [
    {
     "name": "stdout",
     "output_type": "stream",
     "text": [
      "converged SCF energy = -75.9897957874868\n"
     ]
    }
   ],
   "source": [
    "mf=scf.RHF(mol)\n",
    "mf.kernel()\n",
    "H_core=mf.get_hcore()\n",
    "Fock=mf.get_fock()"
   ]
  },
  {
   "cell_type": "code",
   "execution_count": null,
   "metadata": {},
   "outputs": [],
   "source": []
  }
 ],
 "metadata": {
  "kernelspec": {
   "display_name": "Python 3",
   "language": "python",
   "name": "python3"
  },
  "language_info": {
   "codemirror_mode": {
    "name": "ipython",
    "version": 3
   },
   "file_extension": ".py",
   "mimetype": "text/x-python",
   "name": "python",
   "nbconvert_exporter": "python",
   "pygments_lexer": "ipython3",
   "version": "3.8.5"
  }
 },
 "nbformat": 4,
 "nbformat_minor": 4
}
