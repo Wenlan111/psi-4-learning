{
 "cells": [
  {
   "cell_type": "code",
   "execution_count": 7,
   "metadata": {},
   "outputs": [],
   "source": [
    "import pyscf\n",
    "from pyscf import gto\n",
    "from pyscf import scf\n",
    "from pyscf import dft\n",
    "import numpy as np\n",
    "import matplotlib.pyplot as plt"
   ]
  },
  {
   "cell_type": "code",
   "execution_count": null,
   "metadata": {},
   "outputs": [],
   "source": [
    "#dft calculation"
   ]
  },
  {
   "cell_type": "code",
   "execution_count": 8,
   "metadata": {},
   "outputs": [
    {
     "name": "stdout",
     "output_type": "stream",
     "text": [
      "converged SCF energy = -1.12120611516684\n",
      "[[0.60245569 0.60245569]\n",
      " [0.60245569 0.60245569]]\n"
     ]
    }
   ],
   "source": [
    "#find density matrix\n",
    "mol_h2 = gto.M(atom = 'H 0 0 0; H 0 0 0.74', basis = 'sto-3g', symmetry = True)\n",
    "#spin=spinup-spindown\n",
    "#charge=H_2+,charge=1(2 nuclei, 2 electron)\n",
    "mf_h2 = dft.RKS(mol_h2)#restricted closed shell Kohn Sham DFT calculation\n",
    "#run scf loop automatically\n",
    "mf_h2.kernel()\n",
    "#the density matrix after scf loop\n",
    "dm=mf_h2.make_rdm1()\n",
    "print(dm)\n"
   ]
  },
  {
   "cell_type": "code",
   "execution_count": 10,
   "metadata": {},
   "outputs": [
    {
     "name": "stdout",
     "output_type": "stream",
     "text": [
      "Total energy: -0.7795432971713222 Hartree\n",
      "Coulomb energy: 0.9056130370553956 Hartree\n",
      "Exchange-correlation energy: -0.6174798416564593 Hartree\n",
      "Nuclear repulsion energy: 0.13229430273 Hartree\n",
      "Electronic energy: -0.9118375999013222 Hartree\n"
     ]
    }
   ],
   "source": [
    "\n",
    "# Total energy\n",
    "print(f\"Total energy: {mf_h2.e_tot} Hartree\")\n",
    "\n",
    "mf_h2.verbose = 0\n",
    "# get_veff calculates columb energy (J) + XC, and each part is accessbile with .ecoul or .exc\n",
    "# Coulomb energy (Hartree energy)\n",
    "print(f\"Coulomb energy: {mf_h2.get_veff().ecoul} Hartree\")\n",
    "# Exchange-correlation energy\n",
    "print(f\"Exchange-correlation energy: {mf_h2.get_veff().exc} Hartree\")\n",
    "\n",
    "# Nuclear repulsion energy\n",
    "print(f\"Nuclear repulsion energy: {mf_h2.energy_nuc()} Hartree\")\n",
    "\n",
    "# note we can also access the electronic energy with energy_elec(), which returns: (electronic energy, 2electron contribution)\n",
    "print(f\"Electronic energy: {mf_h2.energy_elec()[0]} Hartree\")"
   ]
  },
  {
   "cell_type": "code",
   "execution_count": 9,
   "metadata": {
    "scrolled": false
   },
   "outputs": [
    {
     "name": "stdout",
     "output_type": "stream",
     "text": [
      "converged SCF energy = 0.173239132145609\n",
      "converged SCF energy = -0.20742236949966\n",
      "converged SCF energy = -0.467258306102571\n",
      "converged SCF energy = -0.650755756491558\n",
      "converged SCF energy = -0.78333649447365\n",
      "converged SCF energy = -0.880555653080775\n",
      "converged SCF energy = -0.952420134614797\n",
      "converged SCF energy = -1.00562373897985\n",
      "converged SCF energy = -1.04479427815996\n",
      "converged SCF energy = -1.07322864511825\n",
      "converged SCF energy = -1.09334235960627\n",
      "converged SCF energy = -1.10695064732916\n",
      "converged SCF energy = -1.11544675868677\n",
      "converged SCF energy = -1.11991677551094\n",
      "converged SCF energy = -1.12121527552582\n",
      "converged SCF energy = -1.12001731890947\n",
      "converged SCF energy = -1.11685616131334\n",
      "converged SCF energy = -1.11215230037778\n",
      "converged SCF energy = -1.10623691247221\n",
      "converged SCF energy = -1.09937111733499\n",
      "converged SCF energy = -1.09176192016875\n",
      "converged SCF energy = -1.08357503634998\n",
      "converged SCF energy = -1.07494501368619\n",
      "converged SCF energy = -1.06598292474991\n",
      "converged SCF energy = -1.05678195597128\n",
      "converged SCF energy = -1.04742141889986\n",
      "converged SCF energy = -1.03796949729989\n",
      "converged SCF energy = -1.02848509500936\n",
      "converged SCF energy = -1.01901916042254\n",
      "converged SCF energy = -1.00961563115347\n",
      "converged SCF energy = -1.00031214995728\n",
      "converged SCF energy = -0.991140720300695\n",
      "converged SCF energy = -0.982128302163816\n",
      "converged SCF energy = -0.973297336395081\n",
      "converged SCF energy = -0.964666266998978\n",
      "converged SCF energy = -0.956250052852518\n",
      "converged SCF energy = -0.948060603313487\n",
      "converged SCF energy = -0.940107157796701\n",
      "converged SCF energy = -0.932396657205803\n",
      "converged SCF energy = -0.924934081276881\n",
      "converged SCF energy = -0.917722714500409\n",
      "converged SCF energy = -0.910764345528061\n",
      "converged SCF energy = -0.904059417119901\n",
      "converged SCF energy = -0.897607152714396\n",
      "converged SCF energy = -0.891405692023321\n",
      "converged SCF energy = -0.885452241527303\n",
      "converged SCF energy = -0.879743208675991\n",
      "converged SCF energy = -0.874274301581499\n",
      "converged SCF energy = -0.869040613420265\n",
      "converged SCF energy = -0.864036714940553\n",
      "converged SCF energy = -0.859256747728325\n",
      "converged SCF energy = -0.854694498919755\n",
      "converged SCF energy = -0.850343462277688\n",
      "converged SCF energy = -0.846196906101992\n",
      "converged SCF energy = -0.842247954273829\n",
      "converged SCF energy = -0.838489663061051\n",
      "converged SCF energy = -0.834915076566134\n",
      "converged SCF energy = -0.831517266209989\n",
      "converged SCF energy = -0.828289370037921\n",
      "converged SCF energy = -0.825224637257814\n",
      "converged SCF energy = -0.82231646820324\n",
      "converged SCF energy = -0.819558436831046\n",
      "converged SCF energy = -0.816944296581214\n",
      "converged SCF energy = -0.814467982202371\n",
      "converged SCF energy = -0.812123616569861\n",
      "converged SCF energy = -0.809905520989397\n",
      "converged SCF energy = -0.807808220603602\n",
      "converged SCF energy = -0.805826438000423\n",
      "converged SCF energy = -0.803955077928705\n",
      "converged SCF energy = -0.8021892130028\n",
      "converged SCF energy = -0.800524077227177\n",
      "converged SCF energy = -0.798955065745716\n",
      "converged SCF energy = -0.7974777347751\n",
      "converged SCF energy = -0.796087795789164\n",
      "converged SCF energy = -0.794781102819946\n",
      "converged SCF energy = -0.793553638734183\n",
      "converged SCF energy = -0.792401507947548\n",
      "converged SCF energy = -0.791320937373254\n",
      "converged SCF energy = -0.790308281317415\n",
      "converged SCF energy = -0.789360024364783\n",
      "converged SCF energy = -0.78847277905961\n",
      "converged SCF energy = -0.787643278527189\n",
      "converged SCF energy = -0.786868368324454\n",
      "converged SCF energy = -0.786145003175595\n",
      "converged SCF energy = -0.785470250445669\n",
      "converged SCF energy = -0.784841296732428\n",
      "converged SCF energy = -0.784255452132164\n",
      "converged SCF energy = -0.783710149254561\n",
      "converged SCF energy = -0.783202937976752\n",
      "converged SCF energy = -0.782731478424621\n",
      "converged SCF energy = -0.782293535262611\n",
      "converged SCF energy = -0.781886975898521\n",
      "converged SCF energy = -0.781509772949086\n",
      "converged SCF energy = -0.781160007978109\n",
      "converged SCF energy = -0.780835872345059\n",
      "converged SCF energy = -0.780535663097398\n",
      "converged SCF energy = -0.780257775152363\n",
      "converged SCF energy = -0.780000692956656\n",
      "converged SCF energy = -0.779762984308567\n",
      "converged SCF energy = -0.779543297171322\n"
     ]
    },
    {
     "data": {
      "image/png": "[encoded data removed]",
      "text/plain": [
       "<Figure size 720x432 with 1 Axes>"
      ]
     },
     "metadata": {
      "needs_background": "light"
     },
     "output_type": "display_data"
    }
   ],
   "source": [
    "# Define the range of bond lengths (R) in angstroms\n",
    "bond_lengths = np.linspace(0.2, 4, 100)  # Starting from 0.2 to avoid very short bond lengths\n",
    "\n",
    "# Initialize an empty list to store the energies\n",
    "energies = []\n",
    "\n",
    "# Loop over the bond lengths\n",
    "for R in bond_lengths:\n",
    "    # Define the H2 molecule with the current bond length\n",
    "    mol_h2 = gto.M(\n",
    "        atom = f'H 0 0 0; H 0 0 {R}',  # Hydrogen1 at origin, hydrogen2 at (0, 0, R)\n",
    "        basis = 'sto-3g',              # sto-3g basis set\n",
    "        symmetry = True                # Enable symmetry\n",
    "    )\n",
    "    mol_h2.unit = 'B'\n",
    "    # Set up a DFT calculation using Restricted Kohn-Sham (RKS) method\n",
    "    mf_h2 = dft.RKS(mol_h2)\n",
    "    mf_h2.xc = 'lda,vwn'  # Specify the exchange-correlation functional\n",
    "    \n",
    "\n",
    "    # Switch to the second-order Newton-Raphson algorithm for SCF\n",
    "    mf_h2 = mf_h2.newton()\n",
    "    \n",
    "    # Run the SCF calculation and get the energy\n",
    "    energy = mf_h2.kernel()\n",
    "    \n",
    "    # Append the energy to the list\n",
    "    energies.append(energy)\n",
    "    \n",
    "    #calculate the density matrix\n",
    "    dm=mf_h2.make_rdm1()\n",
    "    \n",
    "\n",
    "# Convert the energies list to a numpy array for easier plotting\n",
    "energies = np.array(energies)\n",
    "\n",
    "# Plot the energy as a function of the bond length\n",
    "plt.figure(figsize=(10, 6))\n",
    "plt.plot(bond_lengths, energies, label='DFT Energy (LDA,VWN)')\n",
    "plt.xlabel('Bond Length (Å)')\n",
    "plt.ylabel('Energy (Hartree)')\n",
    "plt.title('Energy of HF Molecule as a Function of Bond Length')\n",
    "plt.legend()\n",
    "plt.grid(True)\n",
    "plt.show()"
   ]
  },
  {
   "cell_type": "code",
   "execution_count": null,
   "metadata": {},
   "outputs": [],
   "source": [
    "#H atom(uks)\n",
    "\n"
   ]
  },
  {
   "cell_type": "code",
   "execution_count": null,
   "metadata": {},
   "outputs": [],
   "source": []
  },
  {
   "cell_type": "code",
   "execution_count": 12,
   "metadata": {},
   "outputs": [],
   "source": [
    "h2 = gto.M(atom =f\"\"\"\n",
    "    H\n",
    "    H 1 0.74\n",
    "\"\"\", basis = 'cc-pvdz', spin=0)\n"
   ]
  },
  {
   "cell_type": "code",
   "execution_count": 13,
   "metadata": {},
   "outputs": [
    {
     "name": "stdout",
     "output_type": "stream",
     "text": [
      "converged SCF energy = -1.12870009355644\n"
     ]
    },
    {
     "data": {
      "text/plain": [
       "-1.1287000935564409"
      ]
     },
     "execution_count": 13,
     "metadata": {},
     "output_type": "execute_result"
    }
   ],
   "source": [
    "#lets start with a restricted hartree fock calculation\n",
    "myhf = scf.RHF(h2)\n",
    "#then kernel() does the calculation\n",
    "myhf.kernel()"
   ]
  },
  {
   "cell_type": "code",
   "execution_count": 27,
   "metadata": {},
   "outputs": [],
   "source": [
    "def fvind(dm):\n",
    "    vj, vk = mf.get_jk(mol, dm)\n",
    "    return 2 * vj - vk"
   ]
  },
  {
   "cell_type": "code",
   "execution_count": 28,
   "metadata": {},
   "outputs": [],
   "source": [
    "converged = False\n",
    "dm=dm_init_guess\n",
    "for iteration in range(max_iterations):\n",
    "    # Build the Fock matrix\n",
    "    fock_matrix = mf.get_hcore() + fvind(dm)\n",
    "\n",
    "    # Add level shift to the Fock matrix\n",
    "    fock_matrix += np.diag(np.full(fock_matrix.shape[0], level_shift))\n",
    "\n",
    "    # Solve the eigenvalue problem\n",
    "    mo_energy, mo_coeff = mf.eig(fock_matrix, mf.get_ovlp())\n",
    "\n",
    "    # Compute the new density matrix\n",
    "    dm_new = mf.make_rdm1(mo_coeff, mf.mo_occ)\n",
    "\n",
    "    # Check for convergence\n",
    "    if np.linalg.norm(dm_new - dm) < convergence_threshold:\n",
    "        converged = True\n",
    "        break\n",
    "\n",
    "    # Update the density matrix\n",
    "    dm = dm_new\n",
    "\n",
    "# Extract the total energy and exchange-correlation energy\n",
    "total_energy = mf.energy_tot(dm)\n",
    "exc_energy = mf.energy_elec(dm)[1]\n"
   ]
  },
  {
   "cell_type": "code",
   "execution_count": null,
   "metadata": {},
   "outputs": [],
   "source": [
    "#create a HF dissociation for H2\n"
   ]
  },
  {
   "cell_type": "code",
   "execution_count": 29,
   "metadata": {},
   "outputs": [
    {
     "name": "stdout",
     "output_type": "stream",
     "text": [
      "-0.8798436201297659\n",
      "0.7452316060354491\n"
     ]
    }
   ],
   "source": [
    "print(total_energy)\n",
    "print(exc_energy)"
   ]
  },
  {
   "cell_type": "code",
   "execution_count": null,
   "metadata": {},
   "outputs": [],
   "source": []
  }
 ],
 "metadata": {
  "kernelspec": {
   "display_name": "Python 3",
   "language": "python",
   "name": "python3"
  },
  "language_info": {
   "codemirror_mode": {
    "name": "ipython",
    "version": 3
   },
   "file_extension": ".py",
   "mimetype": "text/x-python",
   "name": "python",
   "nbconvert_exporter": "python",
   "pygments_lexer": "ipython3",
   "version": "3.8.5"
  }
 },
 "nbformat": 4,
 "nbformat_minor": 4
}
