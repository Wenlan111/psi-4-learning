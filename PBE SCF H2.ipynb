{
 "cells": [
  {
   "cell_type": "code",
   "execution_count": 1,
   "metadata": {},
   "outputs": [],
   "source": [
    "import pyscf\n",
    "import ctypes\n",
    "import numpy as np\n",
    "from pyscf import dft\n",
    "from pyscf import gto\n",
    "import matplotlib.pyplot as plt\n",
    "from mpl_toolkits.mplot3d import Axes3D\n",
    "from pyscf import lib\n",
    "from pyscf.dft import libxc\n",
    "from pyscf.dft import numint\n",
    "from pyscf.dft import xc_deriv"
   ]
  },
  {
   "cell_type": "code",
   "execution_count": 2,
   "metadata": {},
   "outputs": [
    {
     "name": "stdout",
     "output_type": "stream",
     "text": [
      "converged SCF energy = -0.995650542473473\n"
     ]
    },
    {
     "data": {
      "text/plain": [
       "-0.9956505424734725"
      ]
     },
     "execution_count": 2,
     "metadata": {},
     "output_type": "execute_result"
    }
   ],
   "source": [
    "mol=gto.Mole()\n",
    "mol.atom='''\n",
    "    H 0 0 -1\n",
    "    H 0 0 1\n",
    "'''#Z-matrix input format\n",
    "mol.basis='cc-pvdz'\n",
    "mol.symmetry = True\n",
    "mol.build()\n",
    "mypbe = dft.RKS(mol)\n",
    "mypbe.xc = 'pbe,pbe'\n",
    "mypbe.kernel()"
   ]
  },
  {
   "cell_type": "code",
   "execution_count": 3,
   "metadata": {},
   "outputs": [
    {
     "data": {
      "text/plain": [
       "<pyscf.dft.gen_grid.Grids at 0x7ff0e42bd370>"
      ]
     },
     "execution_count": 3,
     "metadata": {},
     "output_type": "execute_result"
    }
   ],
   "source": [
    "#default level=3\n",
    "#default integration grids use Bragg radii for atoms\n",
    "#Treutler-Ahlrichs radial grids, Becke partitioning for grid weights\n",
    "grid = dft.gen_grid.Grids(mol)\n",
    "grid.level = 5  # Higher levels give more accuracy\n",
    "grid.build()"
   ]
  },
  {
   "cell_type": "code",
   "execution_count": 4,
   "metadata": {},
   "outputs": [],
   "source": [
    "weights = grids.weights\n",
    "coords = grids.coords"
   ]
  },
  {
   "cell_type": "code",
   "execution_count": 5,
   "metadata": {},
   "outputs": [
    {
     "name": "stdout",
     "output_type": "stream",
     "text": [
      "(4, 20048, 10)\n",
      "dimension for phi matrix: (20048, 10)\n"
     ]
    }
   ],
   "source": [
    "#numint method\n",
    "# Evaluate AO values(phi matrix) on this grid\n",
    "ao_value_grid = numint.eval_ao(mol, coords, deriv=1)\n",
    "print(ao_value_grid.shape)\n",
    "print(\"dimension for phi matrix:\",ao_value_grid[0].shape)\n",
    "#the value for phi matrix and the first derivative\n",
    "phi=ao_value_grid[0]\n",
    "phix=ao_value_grid[1]\n",
    "phiy=ao_value_grid[2]\n",
    "phiz=ao_value_grid[3]"
   ]
  },
  {
   "cell_type": "code",
   "execution_count": 6,
   "metadata": {},
   "outputs": [
    {
     "data": {
      "text/plain": [
       "['J. P. Perdew, K. Burke, and M. Ernzerhof.,  Phys. Rev. Lett. 77, 3865 (1996)',\n",
       " 'J. P. Perdew, K. Burke, and M. Ernzerhof.,  Phys. Rev. Lett. 78, 1396 (1997)']"
      ]
     },
     "execution_count": 6,
     "metadata": {},
     "output_type": "execute_result"
    }
   ],
   "source": [
    "dft.libxc.xc_reference('GGA_X_PBE')"
   ]
  },
  {
   "cell_type": "code",
   "execution_count": 7,
   "metadata": {},
   "outputs": [],
   "source": [
    "_itrf= lib.load_library('libxc_itrf')\n",
    "#this function will return Exc and Vxc\n",
    "def evalexc(rho):\n",
    "    #create a list for fn_ids and facs(The identifier for the exchange or correlation functional )\n",
    "    hyb, fn_facs = dft.libxc.parse_xc('GGA_X_PBE,GGA_C_PBE')\n",
    "    fn_ids = [x[0] for x in fn_facs]\n",
    "    facs   = [x[1] for x in fn_facs]\n",
    "    print(fn_facs)\n",
    "    #The range-separation parameter\n",
    "    omega=[0] * len(facs)\n",
    "    #_XC_NVAR = {\n",
    "    #('HF', 0): (1, 1),\n",
    "    #('HF', 1): (1, 2),\n",
    "    #('LDA', 0): (1, 1),\n",
    "    #('LDA', 1): (1, 2),\n",
    "    #('GGA', 0): (4, 2),\n",
    "    #('GGA', 1): (4, 5),\n",
    "    #('MGGA', 0): (5, 3),\n",
    "    #('MGGA', 1): (5, 7),\n",
    "#}\n",
    "    #only density is the variable\n",
    "    spin=0\n",
    "    #nvar: rho, rho_x,rho_y,rho_z\n",
    "    #xlen: The length may represent the number of independent values related to vxc or energy density computations at each grid point.\n",
    "    nvar, xlen = xc_deriv._XC_NVAR['GGA', spin]\n",
    "    ngrids = rho.shape[-1]\n",
    "    #The order of derivatives to compute \n",
    "    deriv=1\n",
    "    outlen = lib.comb(xlen+deriv, deriv)\n",
    "    out = np.zeros((outlen,ngrids))\n",
    "    n = len(fn_ids)\n",
    "    density_threshold=0\n",
    "    _itrf.LIBXC_eval_xc(ctypes.c_int(n),\n",
    "                            (ctypes.c_int*n)(*fn_ids),\n",
    "                            (ctypes.c_double*n)(*facs),\n",
    "                            (ctypes.c_double*n)(*omega),\n",
    "                            ctypes.c_int(spin), ctypes.c_int(deriv),\n",
    "                            ctypes.c_int(nvar), ctypes.c_int(ngrids),\n",
    "                            ctypes.c_int(outlen),\n",
    "                            rho.ctypes.data_as(ctypes.c_void_p),\n",
    "                            out.ctypes.data_as(ctypes.c_void_p),\n",
    "                            ctypes.c_double(density_threshold))\n",
    "    #out[1]vrho out[2]vsigma\n",
    "    Exc= np.einsum('p,p,p->',out[0],rho[0],weights)\n",
    "    print(\"vsigma\",out[2].shape)\n",
    "    Vxctmp = 0.5*np.einsum('pb,p,p,pa->ab', phi, out[1], weights, phi, optimize=True)\n",
    "    Vxctmp += 2.0 *np.einsum('pb,p,p,p,pa->ab', phix, out[2], rho[1], weights, phi, optimize=True)\n",
    "    Vxctmp += 2.0 *np.einsum('pb,p,p,p,pa->ab', phiy, out[2], rho[2], weights, phi, optimize=True)\n",
    "    Vxctmp += 2.0 *np.einsum('pb,p,p,p,pa->ab', phiz, out[2], rho[3], weights, phi, optimize=True)\n",
    "\n",
    "    #functional derivative \n",
    "    #sym\n",
    "    Vxc=Vxctmp+Vxctmp.T\n",
    "    #print(out.shape)\n",
    "    return Exc, Vxc"
   ]
  },
  {
   "cell_type": "code",
   "execution_count": 9,
   "metadata": {},
   "outputs": [
    {
     "name": "stdout",
     "output_type": "stream",
     "text": [
      "Exchange-correlation energy: -0.5108681274032191 Hartree\n",
      "(10, 10)\n",
      "(4, 20048)\n",
      "((101, 1), (130, 1))\n",
      "vsigma (20048,)\n",
      "-0.510868127515638\n"
     ]
    }
   ],
   "source": [
    "\n",
    "# Exchange-correlation energy\n",
    "print(f\"Exchange-correlation energy: {mypbe.get_veff().exc} Hartree\")\n",
    "dm = mypbe.make_rdm1()\n",
    "print(dm.shape)\n",
    "rho_grid2=  numint.eval_rho(mol, ao_value_grid, dm,xctype='GGA')\n",
    "print(rho_grid2.shape)\n",
    "exctest,vxctest=evalexc(rho_grid2)\n",
    "print(exctest)"
   ]
  },
  {
   "cell_type": "code",
   "execution_count": 20,
   "metadata": {},
   "outputs": [
    {
     "name": "stdout",
     "output_type": "stream",
     "text": [
      "(10, 10)\n"
     ]
    }
   ],
   "source": [
    "#define the following integrals using pyscf\n",
    "T = mol.intor('int1e_kin') \n",
    "V = mol.intor('int1e_nuc') \n",
    "S = mol.intor('int1e_ovlp')\n",
    "I = mol.intor('int2e')\n",
    "\n",
    "#our core hamiltonian\n",
    "H=T+V\n",
    "\n",
    "#we need to construct the matrix that diagonalizes S\n",
    "e, U = np.linalg.eigh(S)\n",
    "A = U @ np.diag(e**-0.5) @ U.T\n",
    "\n",
    "#We are doing a restricted calculation, so each orbital contains 2 electrons\n",
    "ndocc= mol.nelectron // 2\n",
    "\n",
    "# Initial guess at D using just H_core \n",
    "\n",
    "F_p = A.dot(H).dot(A)\n",
    "# Diagonalize F_p for eigenvalues & eigenvectors with NumPy\n",
    "e, C_p = np.linalg.eigh(F_p)\n",
    "# Transform C_p back into AO basis\n",
    "C = A.dot(C_p)\n",
    "# Grab occupied orbitals\n",
    "C_occ = C[:, :ndocc]\n",
    "# Build density matrix from occupied orbitals\n",
    "D = 2 * np.einsum('pi,qi->pq', C_occ, C_occ, optimize=True)\n",
    "print(D.shape)"
   ]
  },
  {
   "cell_type": "code",
   "execution_count": 21,
   "metadata": {},
   "outputs": [
    {
     "name": "stdout",
     "output_type": "stream",
     "text": [
      "==> Starting SCF Iterations <==\n",
      "\n",
      "((101, 1), (130, 1))\n",
      "vsigma (20048,)\n",
      "SCF Iteration   1: Energy = -0.9872335472844047 dE = -9.87234E-01 dRMS = 1.97841E-02\n",
      "((101, 1), (130, 1))\n",
      "vsigma (20048,)\n",
      "SCF Iteration   2: Energy = -0.9955853487420654 dE = -8.35180E-03 dRMS = 1.51157E-03\n",
      "((101, 1), (130, 1))\n",
      "vsigma (20048,)\n",
      "SCF Iteration   3: Energy = -0.9956504556552908 dE = -6.51069E-05 dRMS = 5.28702E-05\n",
      "((101, 1), (130, 1))\n",
      "vsigma (20048,)\n",
      "SCF Iteration   4: Energy = -0.9956505425756057 dE = -8.69203E-08 dRMS = 6.14134E-07\n",
      "((101, 1), (130, 1))\n",
      "vsigma (20048,)\n",
      "SCF Iteration   5: Energy = -0.9956505425858937 dE = -1.02880E-11 dRMS = 2.47643E-10\n",
      "\n",
      "SCF converged.\n",
      "Final RHF Energy: -0.9956505425859 [Eh]\n",
      "Coulomb energy: 0.8628345527725945 Hartree\n",
      "Exchange-correlation energy: -0.5108681228758628 Hartree\n",
      "Nuclear repulsion energy: 0.26458860546 Hartree\n"
     ]
    },
    {
     "data": {
      "text/plain": [
       "-0.9956505424734725"
      ]
     },
     "execution_count": 21,
     "metadata": {},
     "output_type": "execute_result"
    }
   ],
   "source": [
    "# Begin SCF Iterations\n",
    "print('==> Starting SCF Iterations <==\\n')\n",
    "E_old = 0.0\n",
    "\n",
    "#this is for DIIS\n",
    "# Trial & Residual Vector Lists\n",
    "F_list = []\n",
    "DIIS_RESID = []\n",
    "\n",
    "\n",
    "# Maximum SCF iterations\n",
    "MAXITER = 40\n",
    "# Energy convergence criterion\n",
    "E_conv = 1.0e-8\n",
    "D_conv = 1.0e-6\n",
    "\n",
    "for scf_iter in range(1, MAXITER + 1):\n",
    "    # Build Fock matrix\n",
    "    #print(D)\n",
    "    J = np.einsum('pqrs,rs->pq', I, D, optimize=True)\n",
    "    rho_grid=  numint.eval_rho(mol, ao_value_grid, D,xctype='GGA')\n",
    "    Exc , vxc = evalexc(rho_grid)\n",
    "    F = H + J + vxc\n",
    "\n",
    "    H_E = np.sum(D * H)\n",
    "    J_E = 0.5 * np.sum(D * J)\n",
    "        \n",
    "    # Build DIIS Residual\n",
    "    diis_r = A.dot(F.dot(D).dot(S) - S.dot(D).dot(F)).dot(A)\n",
    "    # Append trial & residual vectors to lists\n",
    "    F_list.append(F)\n",
    "    DIIS_RESID.append(diis_r)\n",
    "    \n",
    "    \n",
    "    SCF_E = H_E + J_E + Exc + mol.energy_nuc()#different \n",
    "    dE = SCF_E - E_old\n",
    "    dRMS = np.mean(diis_r**2)**0.5\n",
    "    print('SCF Iteration %3d: Energy = %4.16f dE = % 1.5E dRMS = %1.5E' % (scf_iter, SCF_E, dE, dRMS))\n",
    "\n",
    "    # Check for convergence\n",
    "    if (abs(dE) < E_conv) and (dRMS < D_conv):\n",
    "        break\n",
    "    E_old = SCF_E\n",
    "    \n",
    "    #DIIS procedure\n",
    "    if scf_iter >= 2:\n",
    "        # Build B matrix\n",
    "        B_dim = len(F_list) + 1\n",
    "        B = np.empty((B_dim, B_dim))\n",
    "        B[-1, :] = -1\n",
    "        B[:, -1] = -1\n",
    "        B[-1, -1] = 0\n",
    "        for i in range(len(F_list)):\n",
    "            for j in range(len(F_list)):\n",
    "                B[i, j] = np.einsum('ij,ij->', DIIS_RESID[i], DIIS_RESID[j], optimize=True)\n",
    "\n",
    "        # Build RHS of Pulay equation \n",
    "        rhs = np.zeros((B_dim))\n",
    "        rhs[-1] = -1\n",
    "               \n",
    "        # Solve Pulay equation for c_i's with NumPy\n",
    "        coeff = np.linalg.solve(B, rhs)\n",
    "        \n",
    "        # Build DIIS Fock matrix\n",
    "        F = np.zeros_like(F)\n",
    "        for x in range(coeff.shape[0] - 1):\n",
    "            F += coeff[x] * F_list[x]\n",
    "    \n",
    "\n",
    "    \n",
    "    # Compute new orbital guess\n",
    "    F_p = A.dot(F).dot(A)\n",
    "    e, C_p = np.linalg.eigh(F_p)\n",
    "    C = A.dot(C_p)\n",
    "    C_occ = C[:, :ndocc]\n",
    "    D = 2* np.einsum('pi,qi->pq', C_occ, C_occ, optimize=True)\n",
    "\n",
    "# Post iterations\n",
    "print('\\nSCF converged.')\n",
    "print(f'Final RHF Energy: {SCF_E:.13f} [Eh]')\n",
    "# get_veff calculates columb energy (J) + XC, and each part is accessbile with .ecoul or .exc\n",
    "# Coulomb energy (Hartree energy)\n",
    "print(f\"Coulomb energy: {J_E} Hartree\")\n",
    "# Exchange-correlation energy\n",
    "print(f\"Exchange-correlation energy: {Exc} Hartree\")\n",
    "\n",
    "# Nuclear repulsion energy\n",
    "print(f\"Nuclear repulsion energy: {mol.energy_nuc()} Hartree\")\n",
    "\n",
    "-0.9956505424734725"
   ]
  },
  {
   "cell_type": "code",
   "execution_count": 23,
   "metadata": {},
   "outputs": [
    {
     "name": "stdout",
     "output_type": "stream",
     "text": [
      "converged SCF energy = -0.995650542473473\n"
     ]
    },
    {
     "data": {
      "text/plain": [
       "-0.9956505424734725"
      ]
     },
     "execution_count": 23,
     "metadata": {},
     "output_type": "execute_result"
    }
   ],
   "source": [
    "mol=gto.Mole()\n",
    "mol.atom='''\n",
    "    H 0 0 -1\n",
    "    H 0 0 1\n",
    "'''#Z-matrix input format\n",
    "mol.basis='cc-pvdz'\n",
    "mol.symmetry = True\n",
    "mol.build()\n",
    "mypbe = dft.RKS(mol)\n",
    "mypbe.xc = 'pbe,pbe'\n",
    "mypbe.kernel()"
   ]
  },
  {
   "cell_type": "code",
   "execution_count": 22,
   "metadata": {},
   "outputs": [
    {
     "name": "stdout",
     "output_type": "stream",
     "text": [
      "Coulomb energy: 0.8628345586618538 Hartree\n",
      "Exchange-correlation energy: -0.5108681274032194 Hartree\n",
      "Nuclear repulsion energy: 0.26458860546 Hartree\n",
      "Electronic energy: -1.2602391479334725 Hartree\n"
     ]
    }
   ],
   "source": [
    "# get_veff calculates columb energy (J) + XC, and each part is accessbile with .ecoul or .exc\n",
    "# Coulomb energy (Hartree energy)\n",
    "print(f\"Coulomb energy: {mypbe.get_veff().ecoul} Hartree\")\n",
    "# Exchange-correlation energy\n",
    "print(f\"Exchange-correlation energy: {mypbe.get_veff().exc} Hartree\")\n",
    "\n",
    "# Nuclear repulsion energy\n",
    "print(f\"Nuclear repulsion energy: {mypbe.energy_nuc()} Hartree\")\n",
    "\n",
    "# note we can also access the electronic energy with energy_elec(), which returns: (electronic energy, 2electron contribution)\n",
    "print(f\"Electronic energy: {mypbe.energy_elec()[0]} Hartree\")"
   ]
  },
  {
   "cell_type": "code",
   "execution_count": null,
   "metadata": {},
   "outputs": [],
   "source": []
  }
 ],
 "metadata": {
  "kernelspec": {
   "display_name": "Python 3",
   "language": "python",
   "name": "python3"
  },
  "language_info": {
   "codemirror_mode": {
    "name": "ipython",
    "version": 3
   },
   "file_extension": ".py",
   "mimetype": "text/x-python",
   "name": "python",
   "nbconvert_exporter": "python",
   "pygments_lexer": "ipython3",
   "version": "3.8.5"
  }
 },
 "nbformat": 4,
 "nbformat_minor": 4
}
