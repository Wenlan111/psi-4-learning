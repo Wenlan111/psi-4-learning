{
 "cells": [
  {
   "cell_type": "code",
   "execution_count": 1,
   "metadata": {},
   "outputs": [],
   "source": [
    "import numpy as np\n",
    "import pyscf"
   ]
  },
  {
   "cell_type": "code",
   "execution_count": 2,
   "metadata": {},
   "outputs": [],
   "source": [
    "\n",
    "# ==> Define function to diagonalize F <==\n",
    "def diag_F(F, norb):\n",
    "    F_p = A.dot(F).dot(A)\n",
    "    e, C_p = np.linalg.eigh(F_p)\n",
    "    C = A.dot(C_p)\n",
    "    C_occ = C[:, :norb]\n",
    "    D = np.einsum('pi,qi->pq', C_occ, C_occ, optimize=True)\n",
    "    return (C, D)"
   ]
  },
  {
   "cell_type": "code",
   "execution_count": 3,
   "metadata": {},
   "outputs": [],
   "source": [
    "\n",
    "# ==> Build DIIS Extrapolation Function <==\n",
    "def diis_xtrap(F_list, DIIS_RESID):\n",
    "    # Build B matrix\n",
    "    B_dim = len(F_list) + 1\n",
    "    B = np.empty((B_dim, B_dim))\n",
    "    B[-1, :] = -1\n",
    "    B[:, -1] = -1\n",
    "    B[-1, -1] = 0\n",
    "    for i in range(len(F_list)):\n",
    "        for j in range(len(F_list)):\n",
    "            B[i, j] = np.einsum('ij,ij->', DIIS_RESID[i], DIIS_RESID[j], optimize=True)\n",
    "\n",
    "    # Build RHS of Pulay equation \n",
    "    rhs = np.zeros((B_dim))\n",
    "    rhs[-1] = -1\n",
    "      \n",
    "    # Solve Pulay equation for c_i's with NumPy\n",
    "    coeff = np.linalg.solve(B, rhs)\n",
    "      \n",
    "    # Build DIIS Fock matrix\n",
    "    F_DIIS = np.zeros_like(F_list[0])\n",
    "    for x in range(coeff.shape[0] - 1):\n",
    "        F_DIIS += coeff[x] * F_list[x]\n",
    "    \n",
    "    return F_DIIS"
   ]
  },
  {
   "cell_type": "code",
   "execution_count": 5,
   "metadata": {},
   "outputs": [
    {
     "data": {
      "text/plain": [
       "<pyscf.gto.mole.Mole at 0x7fe8b8763c10>"
      ]
     },
     "execution_count": 5,
     "metadata": {},
     "output_type": "execute_result"
    }
   ],
   "source": [
    "#geometry\n",
    "from pyscf import gto\n",
    "mol=gto.Mole()\n",
    "mol.atom='''\n",
    "    O\n",
    "    H 1 1.1\n",
    "    H 1 1.1 2 104\n",
    "'''#Z-matrix input format\n",
    "mol.basis='cc-pvdz'\n",
    "mol.symmetry = True\n",
    "mol.build()"
   ]
  },
  {
   "cell_type": "code",
   "execution_count": 12,
   "metadata": {},
   "outputs": [
    {
     "name": "stdout",
     "output_type": "stream",
     "text": [
      "(5, 5)\n",
      "(2,)\n"
     ]
    }
   ],
   "source": [
    "print(mol.nelec)\n",
    "print(np.shape(mol.nelec))"
   ]
  },
  {
   "cell_type": "code",
   "execution_count": 6,
   "metadata": {},
   "outputs": [],
   "source": [
    "# ==> Set default program options <==\n",
    "# Maximum SCF iterations\n",
    "MAXITER = 40\n",
    "# Energy convergence criterion\n",
    "E_conv = 1.0e-6\n",
    "D_conv = 1.0e-3"
   ]
  },
  {
   "cell_type": "code",
   "execution_count": 15,
   "metadata": {},
   "outputs": [
    {
     "name": "stdout",
     "output_type": "stream",
     "text": [
      "Number of basis functions: 24\n",
      "Number of singly occupied orbitals: 0\n",
      "Number of doubly occupied orbitals: 5\n"
     ]
    }
   ],
   "source": [
    "S=mol.intor('int1e_ovlp')\n",
    "nbf = S.shape[0]\n",
    "nalpha=mol.nelec[0]\n",
    "nbeta=mol.nelec[1]\n",
    "ndocc=min(nalpha,nbeta)\n",
    "print('Number of basis functions: %d' % (nbf))\n",
    "print('Number of singly occupied orbitals: %d' % (abs(nalpha - nbeta)))\n",
    "print('Number of doubly occupied orbitals: %d' % (ndocc))\n"
   ]
  },
  {
   "cell_type": "code",
   "execution_count": 16,
   "metadata": {},
   "outputs": [
    {
     "name": "stdout",
     "output_type": "stream",
     "text": [
      "(24, 24, 24, 24)\n"
     ]
    }
   ],
   "source": [
    "#Build ERI Tensor\n",
    "I = mol.intor('int2e')\n",
    "print(np.shape(I))\n",
    "#Build core Hamiltonian\n",
    "T = mol.intor('int1e_kin')\n",
    "V = mol.intor('int1e_nuc')\n",
    "H = T + V"
   ]
  },
  {
   "cell_type": "code",
   "execution_count": 18,
   "metadata": {},
   "outputs": [],
   "source": [
    "#symmetric orthogonalization\n",
    "from scipy.linalg import fractional_matrix_power\n",
    "A = fractional_matrix_power(S, -0.5)"
   ]
  },
  {
   "cell_type": "code",
   "execution_count": 19,
   "metadata": {},
   "outputs": [],
   "source": [
    "# ==> Build alpha & beta CORE guess <==\n",
    "Ca, Da = diag_F(H, nalpha)\n",
    "Cb, Db = diag_F(H, nbeta)\n",
    "\n",
    "# Get nuclear repulsion energy\n",
    "E_nuc = mol.energy_nuc()"
   ]
  },
  {
   "cell_type": "code",
   "execution_count": 20,
   "metadata": {},
   "outputs": [],
   "source": [
    "# ==> Pre-Iteration Setup <==\n",
    "# SCF & Previous Energy\n",
    "SCF_E = 0.0\n",
    "E_old = 0.0"
   ]
  },
  {
   "cell_type": "code",
   "execution_count": 21,
   "metadata": {},
   "outputs": [
    {
     "name": "stdout",
     "output_type": "stream",
     "text": [
      "==> Starting SCF Iterations <==\n",
      "\n",
      "SCF Iteration   1: Energy = -68.9800327332966106 dE = -6.89800E+01 dRMS = 1.16551E-01\n",
      "SCF Iteration   2: Energy = -69.6472544406204861 dE = -6.67222E-01 dRMS = 1.07430E-01\n",
      "SCF Iteration   3: Energy = -75.7919291462228273 dE = -6.14467E+00 dRMS = 2.89274E-02\n",
      "SCF Iteration   4: Energy = -75.9721892298673538 dE = -1.80260E-01 dRMS = 7.56446E-03\n",
      "SCF Iteration   5: Energy = -75.9893690604500875 dE = -1.71798E-02 dRMS = 8.74982E-04\n",
      "SCF Iteration   6: Energy = -75.9897163369163593 dE = -3.47276E-04 dRMS = 5.35606E-04\n",
      "SCF Iteration   7: Energy = -75.9897932418062396 dE = -7.69049E-05 dRMS = 6.21200E-05\n",
      "SCF Iteration   8: Energy = -75.9897956276201114 dE = -2.38581E-06 dRMS = 2.57879E-05\n",
      "SCF Iteration   9: Energy = -75.9897957847445582 dE = -1.57124E-07 dRMS = 1.72817E-06\n",
      "\n",
      "SCF converged.\n",
      "Final UHF Energy: -75.98979578 [Eh]\n"
     ]
    }
   ],
   "source": [
    "# Trial & Residual Vector Lists -- one each for alpha & beta\n",
    "F_list_a = []\n",
    "F_list_b = []\n",
    "R_list_a = []\n",
    "R_list_b = []\n",
    "\n",
    "# ==> UHF-SCF Iterations <==\n",
    "print('==> Starting SCF Iterations <==\\n')\n",
    "\n",
    "# Begin Iterations\n",
    "for scf_iter in range(1, MAXITER+1):\n",
    "    # Build Fa & Fb matrices\n",
    "    Ja = np.einsum('pqrs,rs->pq', I, Da, optimize=True)\n",
    "    Jb = np.einsum('pqrs,rs->pq', I, Db, optimize=True)\n",
    "    Ka = np.einsum('prqs,rs->pq', I, Da, optimize=True)\n",
    "    Kb = np.einsum('prqs,rs->pq', I, Db, optimize=True)\n",
    "    Fa = H + (Ja + Jb) - Ka\n",
    "    Fb = H + (Ja + Jb) - Kb\n",
    "    \n",
    "    # Compute DIIS residual for Fa & Fb\n",
    "    diis_r_a = A.dot(Fa.dot(Da).dot(S) - S.dot(Da).dot(Fa)).dot(A)\n",
    "    diis_r_b = A.dot(Fb.dot(Db).dot(S) - S.dot(Db).dot(Fb)).dot(A)\n",
    "    \n",
    "    # Append trial & residual vectors to lists\n",
    "    F_list_a.append(Fa)\n",
    "    F_list_b.append(Fb)\n",
    "    R_list_a.append(diis_r_a)\n",
    "    R_list_b.append(diis_r_b)\n",
    "    \n",
    "    # Compute UHF Energy\n",
    "    SCF_E = np.einsum('pq,pq->', (Da + Db), H, optimize=True)\n",
    "    SCF_E += np.einsum('pq,pq->', Da, Fa, optimize=True)\n",
    "    SCF_E += np.einsum('pq,pq->', Db, Fb, optimize=True)\n",
    "    SCF_E *= 0.5\n",
    "    SCF_E += E_nuc\n",
    "    \n",
    "    dE = SCF_E - E_old\n",
    "    dRMS = 0.5 * (np.mean(diis_r_a**2)**0.5 + np.mean(diis_r_b**2)**0.5)\n",
    "    print('SCF Iteration %3d: Energy = %4.16f dE = % 1.5E dRMS = %1.5E' % (scf_iter, SCF_E, dE, dRMS))\n",
    "    \n",
    "    # Convergence Check\n",
    "    if (abs(dE) < E_conv) and (dRMS < D_conv):\n",
    "        break\n",
    "    E_old = SCF_E\n",
    "    \n",
    "    # DIIS Extrapolation\n",
    "    if scf_iter >= 2:\n",
    "        Fa = diis_xtrap(F_list_a, R_list_a)\n",
    "        Fb = diis_xtrap(F_list_b, R_list_b)\n",
    "    \n",
    "    # Compute new orbital guess\n",
    "    Ca, Da = diag_F(Fa, nalpha)\n",
    "    Cb, Db = diag_F(Fb, nbeta)\n",
    "    \n",
    "    # MAXITER exceeded?\n",
    "    if (scf_iter == MAXITER):\n",
    "        psi4.core.clean()\n",
    "        raise Exception(\"Maximum number of SCF iterations exceeded.\")\n",
    "\n",
    "# Post iterations\n",
    "print('\\nSCF converged.')\n",
    "print('Final UHF Energy: %.8f [Eh]' % SCF_E)"
   ]
  },
  {
   "cell_type": "code",
   "execution_count": 23,
   "metadata": {
    "scrolled": true
   },
   "outputs": [
    {
     "name": "stdout",
     "output_type": "stream",
     "text": [
      "converged SCF energy = -75.989795787466  <S^2> = 2.6740121e-10  2S+1 = 1\n"
     ]
    },
    {
     "data": {
      "text/plain": [
       "-75.98979578746602"
      ]
     },
     "execution_count": 23,
     "metadata": {},
     "output_type": "execute_result"
    }
   ],
   "source": [
    "from pyscf import scf\n",
    "mf=scf.UHF(mol)\n",
    "mf.kernel()\n"
   ]
  },
  {
   "cell_type": "code",
   "execution_count": null,
   "metadata": {},
   "outputs": [],
   "source": []
  }
 ],
 "metadata": {
  "kernelspec": {
   "display_name": "Python 3",
   "language": "python",
   "name": "python3"
  },
  "language_info": {
   "codemirror_mode": {
    "name": "ipython",
    "version": 3
   },
   "file_extension": ".py",
   "mimetype": "text/x-python",
   "name": "python",
   "nbconvert_exporter": "python",
   "pygments_lexer": "ipython3",
   "version": "3.8.5"
  }
 },
 "nbformat": 4,
 "nbformat_minor": 4
}
